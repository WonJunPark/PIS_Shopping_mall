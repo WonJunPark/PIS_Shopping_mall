{
 "cells": [
  {
   "cell_type": "code",
   "execution_count": 3,
   "metadata": {},
   "outputs": [
    {
     "name": "stderr",
     "output_type": "stream",
     "text": [
      "Using TensorFlow backend.\n"
     ]
    }
   ],
   "source": [
    "import json\n",
    "import requests\n",
    "from bs4 import BeautifulSoup\n",
    "from collections import OrderedDict\n",
    "from flask import Flask\n",
    "import json\n",
    "from flask import render_template, request\n",
    "from werkzeug import secure_filename\n",
    "import pandas as pd\n",
    "import numpy as np\n",
    "import matplotlib.pyplot as plt\n",
    "from keras.models import Sequential\n",
    "from keras.layers import LSTM, Dropout, Dense, Activation\n",
    "import datetime\n",
    "from sklearn import preprocessing\n",
    "from sklearn.model_selection import train_test_split\n",
    "from keras.models import Sequential\n",
    "from keras.layers import Conv2D, MaxPooling2D, Dense, Flatten, Dropout\n",
    "from keras.callbacks import EarlyStopping, ModelCheckpoint\n",
    "import matplotlib.pyplot as plt\n",
    "import keras.backend.tensorflow_backend as K\n",
    "import tensorflow as tf\n",
    "from keras import regularizers\n",
    "from keras import layers, models\n",
    "from keras.applications import VGG16\n",
    "from keras import Input\n",
    "from keras.models import Model\n",
    "from keras.preprocessing.image import ImageDataGenerator\n",
    "from keras import optimizers, initializers, regularizers, metrics\n",
    "from keras.callbacks import ModelCheckpoint\n",
    "import os\n",
    "from glob import glob\n",
    "from PIL import Image\n",
    "import matplotlib.pyplot as plt\n",
    "import numpy as np\n",
    "from PIL import ImageFile\n",
    "ImageFile.LOAD_TRUNCATED_IMAGES = True\n",
    "from keras.models import load_model\n",
    "import time\n",
    "from flask import make_response\n",
    "import ast"
   ]
  },
  {
   "cell_type": "code",
   "execution_count": 4,
   "metadata": {},
   "outputs": [],
   "source": [
    "product_li = [\"딸기\",\"키위\",\"멜론\",\"포도\",\"수박\",\"토마토\",\n",
    "        \"배\",\"감\",\"사과\",\"귤\",\"고구마\",\"감자\"]\n",
    "product_url_li = [\"http://search.11st.co.kr/Search.tmall?kwd=%25EB%2594%25B8%25EA%25B8%25B0\",\n",
    "            \"http://search.11st.co.kr/Search.tmall?kwd=%25ED%2582%25A4%25EC%259C%2584\",\n",
    "            \"http://search.11st.co.kr/Search.tmall?kwd=%25EB%25A9%259C%25EB%25A1%25A0\",\n",
    "            \"http://search.11st.co.kr/Search.tmall?kwd=%25ED%258F%25AC%25EB%258F%2584\",\n",
    "            \"http://search.11st.co.kr/Search.tmall?kwd=%25EC%2588%2598%25EB%25B0%2595\",\n",
    "            \"http://search.11st.co.kr/Search.tmall?kwd=%25ED%2586%25A0%25EB%25A7%2588%25ED%2586%25A0\",\n",
    "            \"http://search.11st.co.kr/Search.tmall?kwd=%25EB%25B0%25B0\",\n",
    "            \"http://search.11st.co.kr/Search.tmall?kwd=%25EA%25B0%2590\",\n",
    "            \"http://search.11st.co.kr/Search.tmall?kwd=%25EC%2582%25AC%25EA%25B3%25BC\",\n",
    "            \"http://search.11st.co.kr/Search.tmall?kwd=%25EA%25B7%25A4\",\n",
    "            \"http://search.11st.co.kr/Search.tmall?kwd=%25EA%25B3%25A0%25EA%25B5%25AC%25EB%25A7%2588\",\n",
    "            \"http://search.11st.co.kr/Search.tmall?kwd=%25EA%25B0%2590%25EC%259E%2590\"]\n",
    "product_dic = dict(zip(product_li,product_url_li))"
   ]
  },
  {
   "cell_type": "code",
   "execution_count": 13,
   "metadata": {
    "scrolled": true
   },
   "outputs": [],
   "source": [
    "model = Sequential()\n",
    "model.add(LSTM(10, return_sequences = True, input_shape=(10,1)))\n",
    "model.add(LSTM(16,return_sequences = False))\n",
    "model.add(Dense(1,activation='linear'))\n",
    "model.compile(loss='mse',optimizer='rmsprop')\n",
    "model.compile(loss='binary_crossentropy',\n",
    "              optimizer=optimizers.RMSprop(lr=1e-4),\n",
    "              metrics=['acc'])"
   ]
  },
  {
   "cell_type": "code",
   "execution_count": 5,
   "metadata": {
    "scrolled": true
   },
   "outputs": [
    {
     "name": "stdout",
     "output_type": "stream",
     "text": [
      "WARNING:tensorflow:From d:\\ProgramData\\Anaconda3\\lib\\site-packages\\keras\\backend\\tensorflow_backend.py:4267: The name tf.nn.max_pool is deprecated. Please use tf.nn.max_pool2d instead.\n",
      "\n",
      "WARNING:tensorflow:From d:\\ProgramData\\Anaconda3\\lib\\site-packages\\keras\\backend\\tensorflow_backend.py:190: The name tf.get_default_session is deprecated. Please use tf.compat.v1.get_default_session instead.\n",
      "\n"
     ]
    }
   ],
   "source": [
    "categories = [\"apple\",\"grape\",\"kiwi\",\"mandarin\",\"melon\",\"pear\",\n",
    "          \"persimmon\",\"potato\",\"strawberry\",\"sweet_potato\",\n",
    "              \"tomato\",\"watermelon\",\"unrecog\"]\n",
    "nb_classes = len(categories)\n",
    "img_model = load_model('product_prediction_model.h5')"
   ]
  },
  {
   "cell_type": "code",
   "execution_count": 2,
   "metadata": {},
   "outputs": [],
   "source": [
    "app = Flask(__name__)\n",
    "@app.route(\"/\")\n",
    "def test():\n",
    "    return \"<h1>test server</h1>\""
   ]
  },
  {
   "cell_type": "code",
   "execution_count": 1,
   "metadata": {},
   "outputs": [
    {
     "name": "stdout",
     "output_type": "stream",
     "text": [
      "2\n"
     ]
    }
   ],
   "source": [
    "flag = 1\n",
    "if flag == 0:\n",
    "    print('1')\n",
    "else:\n",
    "    pass\n",
    "print('2')"
   ]
  },
  {
   "cell_type": "code",
   "execution_count": 7,
   "metadata": {},
   "outputs": [],
   "source": [
    "# start"
   ]
  },
  {
   "cell_type": "code",
   "execution_count": null,
   "metadata": {},
   "outputs": [],
   "source": [
    "#쿠팡 연관 검색어 모델 finish"
   ]
  },
  {
   "cell_type": "code",
   "execution_count": 2,
   "metadata": {},
   "outputs": [
    {
     "ename": "SyntaxError",
     "evalue": "invalid syntax (<ipython-input-2-afa0af429a4a>, line 12)",
     "output_type": "error",
     "traceback": [
      "\u001b[1;36m  File \u001b[1;32m\"<ipython-input-2-afa0af429a4a>\"\u001b[1;36m, line \u001b[1;32m12\u001b[0m\n\u001b[1;33m    pass:\u001b[0m\n\u001b[1;37m        ^\u001b[0m\n\u001b[1;31mSyntaxError\u001b[0m\u001b[1;31m:\u001b[0m invalid syntax\n"
     ]
    }
   ],
   "source": [
    "@app.route(\"/coupang/<string:keyword>\")\n",
    "def product_recommendation_model_coupang(keyword):    \n",
    "    \n",
    "    flag = 1\n",
    "\n",
    "    for i in product_dic:\n",
    "        if i == keyword:\n",
    "            product_url = product_dic[i]\n",
    "            flag = 0\n",
    "            \n",
    "    if flag == 0:\n",
    "        pass:\n",
    "    else:\n",
    "        new_product = [\"\"]\n",
    "        new_url = [\"\"]\n",
    "        file_data[\"related_keywords\"] = new_product\n",
    "        file_data[\"product_url\"] = new_url\n",
    "        j_file = json.dumps(file_data, ensure_ascii=False,indent=\"\\t\")\n",
    "        return make_response(str(j_file))\n",
    "                    \n",
    "    #크롤링        \n",
    "    response = requests.get(product_url)\n",
    "    html = response.text\n",
    "    soup = BeautifulSoup(html, 'html.parser')\n",
    "    ul = soup.find(\"ul\", {\"class\":\"finder_lst\"})\n",
    "\n",
    "    product = []\n",
    "    url = []\n",
    "    \n",
    "    #json으로 반환\n",
    "    for value in ul.find_all(\"li\"):\n",
    "        product.append(value.a.text.strip())\n",
    "        url.append(value.a.attrs['href'])\n",
    "\n",
    "    new_product = []\n",
    "    new_url = []\n",
    "    for i in range(int(len(product)/2)):\n",
    "        new_product.append(product[i])\n",
    "        new_url.append(url[i])        \n",
    "    \n",
    "    result_dic = dict(zip(new_product,new_url))\n",
    "    file_data = OrderedDict()\n",
    "    file_data[\"related_keywords\"] = new_product\n",
    "    file_data[\"product_url\"] = new_url\n",
    "    j_file = json.dumps(file_data, ensure_ascii=False,indent=\"\\t\")\n",
    "    \n",
    "    return make_response(str(j_file))\n",
    "\n",
    "#11번가 연관 검색어 모델\n",
    "@app.route(\"/11st/<string:keyword>\")\n",
    "def product_recommendation_model_11st(keyword):    \n",
    "    \n",
    "    flag = 1\n",
    "    \n",
    "    for i in product_dic:\n",
    "        if i == keyword:\n",
    "            product_url = product_dic[i]\n",
    "            flag = 0\n",
    "            \n",
    "    if flag == 0:\n",
    "        pass\n",
    "    else:\n",
    "        new_product = [\"\"]\n",
    "        new_url = [\"\"]\n",
    "        file_data[\"related_keywords\"] = new_product\n",
    "        file_data[\"product_url\"] = new_url\n",
    "        j_file = json.dumps(file_data, ensure_ascii=False,indent=\"\\t\")\n",
    "        return make_response(str(j_file))\n",
    "            \n",
    "    #크롤링        \n",
    "    response = requests.get(product_url)\n",
    "    html = response.text\n",
    "    soup = BeautifulSoup(html, 'html.parser')\n",
    "    ul = soup.find(\"ul\", {\"class\":\"finder_lst\"})\n",
    "\n",
    "    product = []\n",
    "    url = []\n",
    "        \n",
    "    #json으로 반환\n",
    "    for value in ul.find_all(\"li\"):\n",
    "        product.append(value.a.text.strip())\n",
    "        url.append(value.a.attrs['href'])\n",
    "\n",
    "    p_len = len(product)\n",
    "    new_product = []\n",
    "    new_url = []\n",
    "    \n",
    "    for i in range(int(len(product)/2)):\n",
    "        new_product.append(product[p_len-1-i])\n",
    "        new_url.append(url[p_len-1-i]) \n",
    "        \n",
    "    result_dic = dict(zip(product,url))\n",
    "    file_data = OrderedDict()\n",
    "    file_data[\"related_keywords\"] = new_product\n",
    "    file_data[\"product_url\"] = new_url\n",
    "    j_file = json.dumps(file_data, ensure_ascii=False,indent=\"\\t\")\n",
    "    \n",
    "    return make_response(str(j_file))"
   ]
  },
  {
   "cell_type": "code",
   "execution_count": 9,
   "metadata": {},
   "outputs": [],
   "source": []
  },
  {
   "cell_type": "code",
   "execution_count": null,
   "metadata": {},
   "outputs": [],
   "source": []
  },
  {
   "cell_type": "code",
   "execution_count": 10,
   "metadata": {},
   "outputs": [
    {
     "name": "stdout",
     "output_type": "stream",
     "text": [
      "<class 'dict'>\n"
     ]
    }
   ],
   "source": [
    "value = open('raw.json').read()\n",
    "dic = json.loads(json.dumps(ast.literal_eval(value)))\n",
    "print(type(dic))\n",
    "price = dic['data']\n",
    "price = np.asarray(price)"
   ]
  },
  {
   "cell_type": "code",
   "execution_count": null,
   "metadata": {},
   "outputs": [],
   "source": []
  },
  {
   "cell_type": "code",
   "execution_count": 11,
   "metadata": {
    "scrolled": true
   },
   "outputs": [
    {
     "name": "stdout",
     "output_type": "stream",
     "text": [
      "Train on 7 samples, validate on 3 samples\n",
      "Epoch 1/10\n",
      "7/7 [==============================] - 1s 182ms/step - loss: 8.1224 - acc: 0.0000e+00 - val_loss: 7.2746 - val_acc: 0.0000e+00\n",
      "Epoch 2/10\n",
      "7/7 [==============================] - 0s 11ms/step - loss: 8.1224 - acc: 0.0000e+00 - val_loss: 7.2746 - val_acc: 0.0000e+00\n",
      "Epoch 3/10\n",
      "7/7 [==============================] - 0s 11ms/step - loss: 8.1224 - acc: 0.0000e+00 - val_loss: 7.2746 - val_acc: 0.0000e+00\n",
      "Epoch 4/10\n",
      "7/7 [==============================] - 0s 11ms/step - loss: 8.1224 - acc: 0.0000e+00 - val_loss: 7.2746 - val_acc: 0.0000e+00\n",
      "Epoch 5/10\n",
      "7/7 [==============================] - 0s 11ms/step - loss: 8.1224 - acc: 0.0000e+00 - val_loss: 7.2746 - val_acc: 0.0000e+00\n",
      "Epoch 6/10\n",
      "7/7 [==============================] - 0s 11ms/step - loss: 8.1224 - acc: 0.0000e+00 - val_loss: 7.2746 - val_acc: 0.0000e+00\n",
      "Epoch 7/10\n",
      "7/7 [==============================] - 0s 10ms/step - loss: 8.1224 - acc: 0.0000e+00 - val_loss: 7.2746 - val_acc: 0.0000e+00\n",
      "Epoch 8/10\n",
      "7/7 [==============================] - 0s 11ms/step - loss: 8.1224 - acc: 0.0000e+00 - val_loss: 7.2746 - val_acc: 0.0000e+00\n",
      "Epoch 9/10\n",
      "7/7 [==============================] - 0s 11ms/step - loss: 8.1224 - acc: 0.0000e+00 - val_loss: 7.2746 - val_acc: 0.0000e+00\n",
      "Epoch 10/10\n",
      "7/7 [==============================] - 0s 11ms/step - loss: 8.1224 - acc: 0.0000e+00 - val_loss: 7.2746 - val_acc: 0.0000e+00\n",
      "200579.67\n"
     ]
    }
   ],
   "source": [
    "value = open('raw.json').read()\n",
    "dic = json.loads(json.dumps(ast.literal_eval(value)))\n",
    "price = dic['data']\n",
    "price = np.asarray(price)\n",
    "price_max = max(price)\n",
    "price_min = min(price)\n",
    "\n",
    "price = ((price-price_min)/(price_max-price_min))\n",
    "\n",
    "#creaete Windows\n",
    "seq_len = 10 #최근 10일에 데이터를 가지고 미래 예측\n",
    "sequence_length = seq_len + 1\n",
    "\n",
    "result = []\n",
    "for index in range(len(price)-sequence_length):\n",
    "    result.append(price[index:index+sequence_length])\n",
    "\n",
    "normalized_data = []\n",
    "for window in result:\n",
    "    normalized_data.append(window)\n",
    "result = np.array(normalized_data)\n",
    "\n",
    "row = int(round(result.shape[0]*0.7))\n",
    "train = result[:row,:]\n",
    "np.random.shuffle(train)\n",
    "\n",
    "x_train = train[:,:-1]\n",
    "x_train = np.reshape(x_train,(x_train.shape[0],x_train.shape[1],1))\n",
    "y_train = train[:,-1]\n",
    "\n",
    "x_test = result[row:,:-1]\n",
    "x_test = np.reshape(x_test,(x_test.shape[0],x_test.shape[1],1))\n",
    "y_test = result[row:,-1]\n",
    "\n",
    "x_train.shape, x_test.shape\n",
    "\n",
    "model.fit(x_train,y_train,\n",
    "          validation_data=(x_test,y_test),\n",
    "          batch_size=1,\n",
    "          epochs=10)\n",
    "\n",
    "pred = model.predict(x_test)\n",
    "result = pred[-1]*(price_max-price_min)+price_max\n",
    "price_prediction = \"%0.2f\"%result\n",
    "print(float(price_prediction))"
   ]
  },
  {
   "cell_type": "code",
   "execution_count": 16,
   "metadata": {
    "scrolled": true
   },
   "outputs": [
    {
     "name": "stdout",
     "output_type": "stream",
     "text": [
      "{'labels': ['2019-11-20T13:22:22.000Z', '2019-11-21T13:22:22.000Z', '2019-11-22T13:22:22.000Z', '2019-11-23T13:22:22.000Z', '2019-11-24T13:22:22.000Z', '2019-11-25T13:22:22.000Z', '2019-11-26T13:22:22.000Z', '2019-11-27T13:22:22.000Z', '2019-11-28T13:22:22.000Z', '2019-11-29T13:22:22.000Z', '2019-11-30T13:22:22.000Z', '2019-12-01T13:22:22.000Z', '2019-12-02T13:22:22.000Z', '2019-12-03T13:22:22.000Z', '2019-12-04T13:22:22.000Z', '2019-12-05T13:22:22.000Z', '2019-12-06T13:22:22.000Z', '2019-12-07T13:22:22.000Z', '2019-12-08T13:22:22.000Z', '2019-12-09T13:22:22.000Z', '2019-12-10T13:22:22.000Z'], 'data': [22500, 100000, 59000, 2000, 9000, 7900, 10000, 11600, 60000, 35500, 120000, 36100, 202000, 39000, 85000, 131000, 106400, 30000, 99000, 147800, 30000]}\n"
     ]
    },
    {
     "ename": "TypeError",
     "evalue": "string indices must be integers",
     "output_type": "error",
     "traceback": [
      "\u001b[1;31m---------------------------------------------------------------------------\u001b[0m",
      "\u001b[1;31mTypeError\u001b[0m                                 Traceback (most recent call last)",
      "\u001b[1;32m<ipython-input-16-a53207a13bcb>\u001b[0m in \u001b[0;36m<module>\u001b[1;34m\u001b[0m\n\u001b[0;32m      2\u001b[0m \u001b[0mprint\u001b[0m\u001b[1;33m(\u001b[0m\u001b[0mvalue\u001b[0m\u001b[1;33m)\u001b[0m\u001b[1;33m\u001b[0m\u001b[1;33m\u001b[0m\u001b[0m\n\u001b[0;32m      3\u001b[0m \u001b[0mdoc\u001b[0m \u001b[1;33m=\u001b[0m \u001b[0mjson\u001b[0m\u001b[1;33m.\u001b[0m\u001b[0mloads\u001b[0m\u001b[1;33m(\u001b[0m\u001b[0mjson\u001b[0m\u001b[1;33m.\u001b[0m\u001b[0mdumps\u001b[0m\u001b[1;33m(\u001b[0m\u001b[0mvalue\u001b[0m\u001b[1;33m)\u001b[0m\u001b[1;33m)\u001b[0m\u001b[1;33m\u001b[0m\u001b[1;33m\u001b[0m\u001b[0m\n\u001b[1;32m----> 4\u001b[1;33m \u001b[0mprice\u001b[0m \u001b[1;33m=\u001b[0m \u001b[0mdoc\u001b[0m\u001b[1;33m[\u001b[0m\u001b[1;34m'data'\u001b[0m\u001b[1;33m]\u001b[0m\u001b[1;33m\u001b[0m\u001b[1;33m\u001b[0m\u001b[0m\n\u001b[0m\u001b[0;32m      5\u001b[0m \u001b[0mprice\u001b[0m \u001b[1;33m=\u001b[0m \u001b[0masarray\u001b[0m\u001b[1;33m(\u001b[0m\u001b[0mprice\u001b[0m\u001b[1;33m)\u001b[0m\u001b[1;33m\u001b[0m\u001b[1;33m\u001b[0m\u001b[0m\n\u001b[0;32m      6\u001b[0m \u001b[0mprice_max\u001b[0m \u001b[1;33m=\u001b[0m \u001b[0mmax\u001b[0m\u001b[1;33m(\u001b[0m\u001b[0mprice\u001b[0m\u001b[1;33m)\u001b[0m\u001b[1;33m\u001b[0m\u001b[1;33m\u001b[0m\u001b[0m\n",
      "\u001b[1;31mTypeError\u001b[0m: string indices must be integers"
     ]
    }
   ],
   "source": [
    "value = open('raw.json').read()\n",
    "print(value)\n",
    "doc = json.loads(json.dumps(value))\n",
    "price = doc['data']\n",
    "price = asarray(price)\n",
    "price_max = max(price)\n",
    "price_min = min(price)\n",
    "\n",
    "price = ((price-price_min)/(price_max-price_min))\n",
    "\n",
    "#creaete Windows\n",
    "seq_len = 10 #최근 10일에 데이터를 가지고 미래 예측\n",
    "sequence_length = seq_len + 1\n",
    "\n",
    "result = []\n",
    "for index in range(len(price)-sequence_length):\n",
    "    result.append(price[index:index+sequence_length])\n",
    "\n",
    "normalized_data = []\n",
    "for window in result:\n",
    "    normalized_data.append(window)\n",
    "result = np.array(normalized_data)\n",
    "\n",
    "row = int(round(result.shape[0]*0.7))\n",
    "train = result[:row,:]\n",
    "np.random.shuffle(train)\n",
    "\n",
    "x_train = train[:,:-1]\n",
    "x_train = np.reshape(x_train,(x_train.shape[0],x_train.shape[1],1))\n",
    "y_train = train[:,-1]\n",
    "\n",
    "x_test = result[row:,:-1]\n",
    "x_test = np.reshape(x_test,(x_test.shape[0],x_test.shape[1],1))\n",
    "y_test = result[row:,-1]\n",
    "\n",
    "x_train.shape, x_test.shape\n",
    "\n",
    "model.fit(x_train,y_train,\n",
    "          validation_data=(x_test,y_test),\n",
    "          batch_size=1,\n",
    "          epochs=10)\n",
    "\n",
    "pred = model.predict(x_test)\n",
    "result = pred[-1]*(price_max-price_min)+price_max\n",
    "price_prediction = \"%0.2f\"%result\n",
    "return float(price_prediction)"
   ]
  },
  {
   "cell_type": "code",
   "execution_count": 10,
   "metadata": {},
   "outputs": [],
   "source": [
    "#판매자, 관리자 판매 수익 예측 모델\n",
    "@app.route('/price_prediction', methods=['POST'])\n",
    "def price_prediction():\n",
    "    value = request.get_json()\n",
    "    price = value['data']\n",
    "    print(\"data upload finish!\")\n",
    "    price = np.asarray(price)\n",
    "    price_max = max(price)\n",
    "    price_min = min(price)\n",
    "    price = ((price-price_min)/(price_max-price_min))\n",
    "\n",
    "    #creaete Windows\n",
    "    seq_len = 10 #최근 10일에 데이터를 가지고 미래 예측\n",
    "    sequence_length = seq_len + 1\n",
    "\n",
    "    result = []\n",
    "    for index in range(len(price)-sequence_length):\n",
    "        result.append(price[index:index+sequence_length])\n",
    "\n",
    "    normalized_data = []\n",
    "    for window in result:\n",
    "        normalized_data.append(window)\n",
    "    result = np.array(normalized_data)\n",
    "\n",
    "    row = int(round(result.shape[0]*0.7))\n",
    "    train = result[:row,:]\n",
    "    np.random.shuffle(train)\n",
    "\n",
    "    x_train = train[:,:-1]\n",
    "    x_train = np.reshape(x_train,(x_train.shape[0],x_train.shape[1],1))\n",
    "    y_train = train[:,-1]\n",
    "\n",
    "    x_test = result[row:,:-1]\n",
    "    x_test = np.reshape(x_test,(x_test.shape[0],x_test.shape[1],1))\n",
    "    y_test = result[row:,-1]\n",
    "\n",
    "    x_train.shape, x_test.shape\n",
    "    print(\"img preprocessing finish!\")\n",
    "    model.fit(x_train,y_train,\n",
    "              validation_data=(x_test,y_test),\n",
    "              batch_size=1,\n",
    "              epochs=10)\n",
    "    print(\"model fit finish!\")\n",
    "    pred = model.predict(x_test)\n",
    "    result = pred[-1]*(price_max-price_min)+price_max\n",
    "    price_prediction = \"%0.2f\"%result\n",
    "    \n",
    "    return str(\"ok\")"
   ]
  },
  {
   "cell_type": "code",
   "execution_count": null,
   "metadata": {},
   "outputs": [],
   "source": []
  },
  {
   "cell_type": "code",
   "execution_count": 11,
   "metadata": {
    "scrolled": true
   },
   "outputs": [],
   "source": [
    "#이미지 분류 모델\n",
    "@app.route('/img_upload')\n",
    "def render_file():\n",
    "    return render_template('upload.html')\n",
    "\n",
    "@app.route('/image_recognition', methods = ['GET','POST'])\n",
    "def image_reocgition_model():\n",
    "    if request.method == 'POST':\n",
    "        f = request.files['img']\n",
    "        f.save('C:/Users/190713/pp_project/pp_project/'+\n",
    "               secure_filename(f.filename))\n",
    "        \n",
    "        time.sleep(2)\n",
    "        \n",
    "        img_path = \"C:/Users/190713/pp_project/pp_project/\"+f.filename\n",
    "        img = Image.open(img_path)\n",
    "        img = img.convert(\"RGB\")\n",
    "        img = img.resize((240, 320))\n",
    "        print(\"img resize\")\n",
    "        data = np.asarray(img)\n",
    "        print(\"np.asarray\")\n",
    "        data = np.expand_dims(data, axis=0)\n",
    "        print(\"np.expand_dims\")\n",
    "        img_model._make_predict_function()\n",
    "        preds = img_model.predict(data)\n",
    "        print(\"preds\")\n",
    "        for i in range(0,13):\n",
    "            if preds[0,i] >= 0.8:\n",
    "                answer = categories[i]\n",
    "        return str(answer)"
   ]
  },
  {
   "cell_type": "code",
   "execution_count": 6,
   "metadata": {
    "scrolled": true
   },
   "outputs": [
    {
     "name": "stdout",
     "output_type": "stream",
     "text": [
      " * Serving Flask app \"__main__\" (lazy loading)\n",
      " * Environment: production\n",
      "   WARNING: This is a development server. Do not use it in a production deployment.\n",
      "   Use a production WSGI server instead.\n",
      " * Debug mode: off\n"
     ]
    },
    {
     "name": "stderr",
     "output_type": "stream",
     "text": [
      " * Running on http://0.0.0.0:20153/ (Press CTRL+C to quit)\n",
      "203.249.127.60 - - [12/Dec/2019 15:46:29] \"\u001b[37mGET /11st/사과 HTTP/1.1\u001b[0m\" 200 -\n",
      "203.249.127.60 - - [12/Dec/2019 15:47:44] \"\u001b[37mGET /11st/사과 HTTP/1.1\u001b[0m\" 200 -\n"
     ]
    }
   ],
   "source": [
    "if __name__ == \"__main__\":              \n",
    "    app.run(host=\"0.0.0.0\", port=\"20153\")"
   ]
  },
  {
   "cell_type": "code",
   "execution_count": 12,
   "metadata": {
    "scrolled": true
   },
   "outputs": [
    {
     "name": "stdout",
     "output_type": "stream",
     "text": [
      "grape\n"
     ]
    }
   ],
   "source": [
    "img_path = \"C:/Users/190713/pp_project/pp_project/search.png\"\n",
    "img = Image.open(img_path)\n",
    "img = img.convert(\"RGB\")\n",
    "img = img.resize((240, 320))\n",
    "data = np.asarray(img)\n",
    "data = np.expand_dims(data, axis=0)\n",
    "preds = img_model.predict(data)\n",
    "for i in range(0,13):\n",
    "    if preds[0,i] >= 0.8:\n",
    "        answer = categories[i]\n",
    "print(answer)"
   ]
  },
  {
   "cell_type": "code",
   "execution_count": 13,
   "metadata": {},
   "outputs": [],
   "source": [
    "img_model._make_predict_function()"
   ]
  },
  {
   "cell_type": "code",
   "execution_count": 12,
   "metadata": {
    "scrolled": true
   },
   "outputs": [],
   "source": [
    "#이미지 분류 모델\n",
    "#판매자 이미지 필터, 구매자 이미지 검색\n",
    "@app.route('/image_recog_save', methods = ['GET','POST'])\n",
    "def image_recog_save():\n",
    "    if request.method == 'POST':\n",
    "        f = request.files['img']\n",
    "        print(\"request clear\")\n",
    "        f.save('C:/Users/190713/pp_project/pp_project/'+\n",
    "               secure_filename(f.filename))\n",
    "        print(\"save claer\")\n",
    "        return str(f.filename)\n",
    "\n",
    "@app.route('/image_recog_start/<string:img_name>')\n",
    "def image_recog_start(img_name):\n",
    "    img_path = \"C:/Users/190713/pp_project/pp_project/\"+img_name\n",
    "    print(\"request clear\")\n",
    "    img = Image.open(img_path)\n",
    "    img = img.convert(\"RGB\")\n",
    "    img = img.resize((240, 320))\n",
    "    data = np.asarray(img)\n",
    "    data = np.expand_dims(data, axis=0)\n",
    "    print(\"preprocessing clear\")\n",
    "    preds = model.predict(data)\n",
    "    print(\"predict clear\")\n",
    "\n",
    "    for i in range(0,13):\n",
    "        if preds[0,i] >= 0.8:\n",
    "            answer = categories[i]\n",
    "    return str(answer)"
   ]
  },
  {
   "cell_type": "code",
   "execution_count": null,
   "metadata": {},
   "outputs": [],
   "source": []
  },
  {
   "cell_type": "code",
   "execution_count": 8,
   "metadata": {
    "collapsed": true
   },
   "outputs": [],
   "source": [
    "#이미지 분류 모델 업데이트\n",
    "@app.route('/image_recognition_model_update', methods = ['GET','POST'])\n",
    "def image_reocgition_model_update():\n",
    "    model = models.Sequential()\n",
    "    model.add(layers.Conv2D(32, (3, 3), activation='relu', input_shape=(320, 240, 3)))\n",
    "    model.add(layers.MaxPooling2D((2, 2)))\n",
    "    model.add(layers.Conv2D(64, (3, 3), activation='relu'))\n",
    "    model.add(layers.MaxPooling2D((2, 2)))\n",
    "    model.add(layers.Conv2D(128, (3, 3), activation='relu'))\n",
    "    model.add(layers.MaxPooling2D((2, 2)))\n",
    "    model.add(layers.Conv2D(128, (3, 3), activation='relu'))\n",
    "    model.add(layers.MaxPooling2D((2, 2)))\n",
    "    model.add(layers.Flatten())\n",
    "    model.add(layers.Dense(512, activation='relu'))\n",
    "    model.add(layers.Dense(13, activation='sigmoid'))\n",
    "    model.compile(loss='binary_crossentropy',\n",
    "              optimizer=optimizers.RMSprop(lr=1e-4),\n",
    "              metrics=['acc'])\n",
    "    model.fit(X_train, y_train, \n",
    "                    batch_size=100, \n",
    "                    epochs=10, \n",
    "                    validation_data=(X_test, y_test))\n",
    "    model.save('new_product_prediction_model.h5')\n",
    "    s = 'update finish!'\n",
    "    return str(s)"
   ]
  },
  {
   "cell_type": "code",
   "execution_count": null,
   "metadata": {
    "collapsed": true
   },
   "outputs": [],
   "source": []
  }
 ],
 "metadata": {
  "kernelspec": {
   "display_name": "Python 3",
   "language": "python",
   "name": "python3"
  },
  "language_info": {
   "codemirror_mode": {
    "name": "ipython",
    "version": 3
   },
   "file_extension": ".py",
   "mimetype": "text/x-python",
   "name": "python",
   "nbconvert_exporter": "python",
   "pygments_lexer": "ipython3",
   "version": "3.6.5"
  }
 },
 "nbformat": 4,
 "nbformat_minor": 2
}
