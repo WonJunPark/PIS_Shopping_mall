{
 "cells": [
  {
   "cell_type": "code",
   "execution_count": 1,
   "metadata": {},
   "outputs": [
    {
     "name": "stderr",
     "output_type": "stream",
     "text": [
      "Using TensorFlow backend.\n"
     ]
    }
   ],
   "source": [
    "import json\n",
    "import requests\n",
    "from bs4 import BeautifulSoup\n",
    "from collections import OrderedDict\n",
    "from flask import Flask\n",
    "import json\n",
    "from flask import render_template, request\n",
    "from werkzeug import secure_filename\n",
    "import pandas as pd\n",
    "import numpy as np\n",
    "import matplotlib.pyplot as plt\n",
    "from keras.models import Sequential\n",
    "from keras.layers import LSTM, Dropout, Dense, Activation\n",
    "import datetime\n",
    "from sklearn import preprocessing\n",
    "from sklearn.model_selection import train_test_split\n",
    "from keras.models import Sequential\n",
    "from keras.layers import Conv2D, MaxPooling2D, Dense, Flatten, Dropout\n",
    "from keras.callbacks import EarlyStopping, ModelCheckpoint\n",
    "import matplotlib.pyplot as plt\n",
    "import keras.backend.tensorflow_backend as K\n",
    "import tensorflow as tf\n",
    "from keras import regularizers\n",
    "from keras import layers, models\n",
    "from keras.applications import VGG16\n",
    "from keras import Input\n",
    "from keras.models import Model\n",
    "from keras.preprocessing.image import ImageDataGenerator\n",
    "from keras import optimizers, initializers, regularizers, metrics\n",
    "from keras.callbacks import ModelCheckpoint\n",
    "import os\n",
    "from glob import glob\n",
    "from PIL import Image\n",
    "import matplotlib.pyplot as plt\n",
    "import numpy as np\n",
    "from PIL import ImageFile\n",
    "ImageFile.LOAD_TRUNCATED_IMAGES = True\n",
    "from keras.models import load_model\n",
    "import time\n",
    "from flask import make_response\n",
    "import ast\n",
    "from urllib.parse import quote\n",
    "graph = tf.get_default_graph()"
   ]
  },
  {
   "cell_type": "code",
   "execution_count": 5,
   "metadata": {},
   "outputs": [],
   "source": [
    "#초기화\n",
    "app = Flask(__name__)\n",
    "@app.route(\"/\")\n",
    "def test():\n",
    "    return \"<h1>test server</h1>\""
   ]
  },
  {
   "cell_type": "code",
   "execution_count": 3,
   "metadata": {},
   "outputs": [],
   "source": [
    "# 연관 검색어 추천 기능"
   ]
  },
  {
   "cell_type": "code",
   "execution_count": 4,
   "metadata": {},
   "outputs": [],
   "source": [
    "product_li = [\"딸기\",\"키위\",\"멜론\",\"포도\",\"수박\",\"토마토\",\n",
    "        \"배\",\"감\",\"사과\",\"귤\",\"고구마\",\"감자\"]\n",
    "product_url_li = [\"http://search.11st.co.kr/Search.tmall?kwd=%25EB%2594%25B8%25EA%25B8%25B0\",\n",
    "            \"http://search.11st.co.kr/Search.tmall?kwd=%25ED%2582%25A4%25EC%259C%2584\",\n",
    "            \"http://search.11st.co.kr/Search.tmall?kwd=%25EB%25A9%259C%25EB%25A1%25A0\",\n",
    "            \"http://search.11st.co.kr/Search.tmall?kwd=%25ED%258F%25AC%25EB%258F%2584\",\n",
    "            \"http://search.11st.co.kr/Search.tmall?kwd=%25EC%2588%2598%25EB%25B0%2595\",\n",
    "            \"http://search.11st.co.kr/Search.tmall?kwd=%25ED%2586%25A0%25EB%25A7%2588%25ED%2586%25A0\",\n",
    "            \"http://search.11st.co.kr/Search.tmall?kwd=%25EB%25B0%25B0\",\n",
    "            \"http://search.11st.co.kr/Search.tmall?kwd=%25EA%25B0%2590\",\n",
    "            \"http://search.11st.co.kr/Search.tmall?kwd=%25EC%2582%25AC%25EA%25B3%25BC\",\n",
    "            \"http://search.11st.co.kr/Search.tmall?kwd=%25EA%25B7%25A4\",\n",
    "            \"http://search.11st.co.kr/Search.tmall?kwd=%25EA%25B3%25A0%25EA%25B5%25AC%25EB%25A7%2588\",\n",
    "            \"http://search.11st.co.kr/Search.tmall?kwd=%25EA%25B0%2590%25EC%259E%2590\"]\n",
    "product_dic = dict(zip(product_li,product_url_li))"
   ]
  },
  {
   "cell_type": "code",
   "execution_count": 6,
   "metadata": {},
   "outputs": [],
   "source": [
    "@app.route(\"/coupang/<string:keyword>\")\n",
    "def product_recommendation_model_coupang(keyword):    \n",
    "\n",
    "    flag = 1\n",
    "    \n",
    "    print(keyword)\n",
    "    for i in product_dic:\n",
    "        if i == keyword:\n",
    "            product_url = product_dic[i]\n",
    "            flag = 0\n",
    "                \n",
    "    if flag == 0:\n",
    "        pass\n",
    "    else:\n",
    "        new_product = [\"\"]\n",
    "        new_url = [\"\"]\n",
    "        \n",
    "        file_data = OrderedDict()\n",
    "        file_data[\"related_keywords\"] = new_product\n",
    "        file_data[\"product_url\"] = new_url\n",
    "        j_file = json.dumps(file_data, ensure_ascii=False,indent=\"\\t\")\n",
    "        return make_response(str(j_file))\n",
    "        \n",
    "        \n",
    "    #연관 키워드 크롤링        \n",
    "    response = requests.get(product_url)\n",
    "    html = response.text\n",
    "    soup = BeautifulSoup(html, 'html.parser')\n",
    "    ul = soup.find(\"ul\", {\"class\":\"finder_lst\"})\n",
    "\n",
    "    product = []\n",
    "    url = []\n",
    "\n",
    "    for value in ul.find_all(\"li\"):\n",
    "        product.append(value.a.text.strip())\n",
    "        url.append(value.a.attrs['href'])\n",
    "\n",
    "    #연관 규칙 분석\n",
    "    new_product = []\n",
    "    new_url = []\n",
    "    for i in range(int(len(product)/2)):\n",
    "        new_product.append(product[i])\n",
    "        new_url.append(url[i])        \n",
    "\n",
    "    result_dic = dict(zip(new_product,new_url))\n",
    "    file_data = OrderedDict()\n",
    "    file_data[\"related_keywords\"] = new_product\n",
    "    file_data[\"product_url\"] = new_url\n",
    "    j_file = json.dumps(file_data, ensure_ascii=False,indent=\"\\t\")\n",
    "\n",
    "    #연관 키워드 추천\n",
    "    return make_response(str(j_file))\n",
    "\n",
    "#11번가 연관 검색어 모델\n",
    "@app.route(\"/11st/<string:keyword>\")\n",
    "def product_recommendation_model_11st(keyword):    \n",
    "    \n",
    "    flag = 1\n",
    "    \n",
    "    for i in product_dic:\n",
    "        if i == keyword:\n",
    "            product_url = product_dic[i]\n",
    "            flag = 0\n",
    "            \n",
    "    if flag == 0:\n",
    "        pass\n",
    "    else:\n",
    "        new_product = [\"\"]\n",
    "        new_url = [\"\"]\n",
    "        \n",
    "        file_data = OrderedDict()\n",
    "        file_data[\"related_keywords\"] = new_product\n",
    "        file_data[\"product_url\"] = new_url\n",
    "        j_file = json.dumps(file_data, ensure_ascii=False,indent=\"\\t\")\n",
    "        return make_response(str(j_file))\n",
    "                        \n",
    "    #크롤링        \n",
    "    response = requests.get(product_url)\n",
    "    html = response.text\n",
    "    soup = BeautifulSoup(html,'html.parser')\n",
    "    ul = soup.find(\"ul\", {\"class\":\"finder_lst\"})\n",
    "\n",
    "    product = []\n",
    "    url = []\n",
    "        \n",
    "    #json으로 반환\n",
    "    for value in ul.find_all(\"li\"):\n",
    "        product.append(value.a.text.strip())\n",
    "        url.append(value.a.attrs['href'])\n",
    "\n",
    "    p_len = len(product)\n",
    "    new_product = []\n",
    "    new_url = []\n",
    "    \n",
    "    for i in range(int(len(product)/2)):\n",
    "        new_product.append(product[p_len-1-i])\n",
    "        new_url.append(url[p_len-1-i]) \n",
    "        \n",
    "    result_dic = dict(zip(product,url))\n",
    "    file_data = OrderedDict()\n",
    "    file_data[\"related_keywords\"] = new_product\n",
    "    file_data[\"product_url\"] = new_url\n",
    "    j_file = json.dumps(file_data, ensure_ascii=False,indent=\"\\t\")\n",
    "    \n",
    "    return make_response(str(j_file))"
   ]
  },
  {
   "cell_type": "code",
   "execution_count": null,
   "metadata": {},
   "outputs": [],
   "source": [
    "#판매 수익 예측 모델"
   ]
  },
  {
   "cell_type": "code",
   "execution_count": 7,
   "metadata": {},
   "outputs": [
    {
     "name": "stdout",
     "output_type": "stream",
     "text": [
      "WARNING:tensorflow:From d:\\ProgramData\\Anaconda3\\lib\\site-packages\\keras\\backend\\tensorflow_backend.py:66: The name tf.get_default_graph is deprecated. Please use tf.compat.v1.get_default_graph instead.\n",
      "\n",
      "WARNING:tensorflow:From d:\\ProgramData\\Anaconda3\\lib\\site-packages\\keras\\backend\\tensorflow_backend.py:541: The name tf.placeholder is deprecated. Please use tf.compat.v1.placeholder instead.\n",
      "\n",
      "WARNING:tensorflow:From d:\\ProgramData\\Anaconda3\\lib\\site-packages\\keras\\backend\\tensorflow_backend.py:4432: The name tf.random_uniform is deprecated. Please use tf.random.uniform instead.\n",
      "\n",
      "WARNING:tensorflow:From d:\\ProgramData\\Anaconda3\\lib\\site-packages\\keras\\optimizers.py:793: The name tf.train.Optimizer is deprecated. Please use tf.compat.v1.train.Optimizer instead.\n",
      "\n"
     ]
    }
   ],
   "source": [
    "model = Sequential()\n",
    "model.add(LSTM(10, return_sequences = True, input_shape=(10,1)))\n",
    "model.add(LSTM(16,return_sequences = False))\n",
    "model.add(Dense(1,activation='linear'))\n",
    "model.compile(loss='mse',optimizer='rmsprop')"
   ]
  },
  {
   "cell_type": "code",
   "execution_count": 8,
   "metadata": {},
   "outputs": [],
   "source": [
    "@app.route('/price_prediction', methods=['POST'])\n",
    "def price_prediction():\n",
    "    value = request.get_json()\n",
    "    price = value['data']\n",
    "    price = np.asarray(price)\n",
    "    price_max = max(price)\n",
    "    price_min = min(price)\n",
    "    price = ((price-price_min)/(price_max-price_min))\n",
    "    print(price)\n",
    "\n",
    "    #creaete Windows\n",
    "    seq_len = 10 #최근 10일에 데이터를 가지고 미래 예측\n",
    "    sequence_length = seq_len + 1\n",
    "\n",
    "    result = []\n",
    "    for index in range(len(price)-sequence_length):\n",
    "        result.append(price[index:index+sequence_length])\n",
    "\n",
    "    normalized_data = []\n",
    "    for window in result:\n",
    "        normalized_data.append(window)\n",
    "    result = np.array(normalized_data)\n",
    "\n",
    "    row = int(round(result.shape[0]*0.7))\n",
    "    train = result[:row,:]\n",
    "    np.random.shuffle(train)\n",
    "\n",
    "    x_train = train[:,:-1]\n",
    "    x_train = np.reshape(x_train,(x_train.shape[0],x_train.shape[1],1))\n",
    "    y_train = train[:,-1]\n",
    "\n",
    "    x_test = result[row:,:-1]\n",
    "    x_test = np.reshape(x_test,(x_test.shape[0],x_test.shape[1],1))\n",
    "    y_test = result[row:,-1]\n",
    "\n",
    "    x_train.shape, x_test.shape\n",
    "    #판매자, 쇼핑몰 수익예측 모델 구축\n",
    "    \n",
    "#    model.fit(x_train,y_train,\n",
    "#              validation_data=(x_test,y_test),\n",
    "#              batch_size=1,\n",
    "#              epochs=10)\n",
    "    \n",
    "    global graph\n",
    "    with graph.as_default():\n",
    "        preds = model.predict(x_test)\n",
    "            \n",
    "    #판매자, 쇼핑몰 수익 예측\n",
    "    result = preds[-1]*(price_max-price_min)+price_max\n",
    "    price_prediction = \"%0.2f\"%result\n",
    "    print(price_prediction)\n",
    "    print('prediction finish!')\n",
    "    return make_response(str(price_prediction))"
   ]
  },
  {
   "cell_type": "code",
   "execution_count": null,
   "metadata": {},
   "outputs": [],
   "source": [
    "#이미지 검색 모델"
   ]
  },
  {
   "cell_type": "code",
   "execution_count": 17,
   "metadata": {},
   "outputs": [],
   "source": [
    "categories = [\"사과\",\"포도\",\"키위\",\"귤\",\"멜론\",\"배\",\n",
    "          \"감\",\"감자\",\"딸기\",\"고구마\",\n",
    "              \"토마토\",\"수박\",\"unrecog\"]\n",
    "img_model = models.Sequential()\n",
    "img_model.add(layers.Conv2D(32, (3, 3), activation='relu',\n",
    "                        input_shape=(320, 240, 3)))\n",
    "img_model.add(layers.MaxPooling2D((2, 2)))\n",
    "img_model.add(layers.Conv2D(64, (3, 3), activation='relu'))\n",
    "img_model.add(layers.MaxPooling2D((2, 2)))\n",
    "img_model.add(layers.Conv2D(128, (3, 3), activation='relu'))\n",
    "img_model.add(layers.MaxPooling2D((2, 2)))\n",
    "img_model.add(layers.Conv2D(128, (3, 3), activation='relu'))\n",
    "img_model.add(layers.MaxPooling2D((2, 2)))\n",
    "img_model.add(layers.Flatten())\n",
    "img_model.add(layers.Dense(512, activation='relu'))\n",
    "img_model.add(layers.Dense(13, activation='sigmoid'))\n",
    "img_model.compile(loss='binary_crossentropy',\n",
    "      optimizer=optimizers.RMSprop(lr=1e-4),\n",
    "      metrics=['acc'])"
   ]
  },
  {
   "cell_type": "code",
   "execution_count": 10,
   "metadata": {},
   "outputs": [],
   "source": [
    "@app.route('/image_recognition', methods = ['GET','POST'])\n",
    "def image_reocgition_model():\n",
    "    if request.method == 'POST':\n",
    "        f = request.files['img']\n",
    "        f.save('C:/Users/190713/pp_project/pp_project/'+\n",
    "               secure_filename(f.filename))\n",
    "        print(\"img save finish!\")\n",
    "        \n",
    "        time.sleep(3)\n",
    "        \n",
    "        img_path = \"C:/Users/190713/pp_project/pp_project/\"+f.filename\n",
    "        img = Image.open(img_path)\n",
    "        img = img.convert(\"RGB\")\n",
    "        img = img.resize((240, 320))\n",
    "        data = np.asarray(img)\n",
    "        data = np.expand_dims(data, axis=0)\n",
    "        global graph\n",
    "        with graph.as_default():\n",
    "            preds = img_model.predict(data)\n",
    "            \n",
    "        print(\"prediction finish!\")\n",
    "        #제품 이미지 분류\n",
    "        for i in range(0,13):\n",
    "            if preds[0,i] >= 0.8:\n",
    "                answer = categories[i]\n",
    "        return make_response(str(answer))"
   ]
  },
  {
   "cell_type": "code",
   "execution_count": 11,
   "metadata": {},
   "outputs": [],
   "source": [
    "#이미지 검색 모델 업데이트"
   ]
  },
  {
   "cell_type": "code",
   "execution_count": 12,
   "metadata": {},
   "outputs": [],
   "source": [
    "# img model update\n",
    "@app.route('/img_model_update', methods=['POST'])\n",
    "def img_model_update():\n",
    "    img_model = models.Sequential()\n",
    "    img_model.add(layers.Conv2D(32, (3, 3), activation='relu',\n",
    "                            input_shape=(320, 240, 3)))\n",
    "    img_model.add(layers.MaxPooling2D((2, 2)))\n",
    "    img_model.add(layers.Conv2D(64, (3, 3), activation='relu'))\n",
    "    img_model.add(layers.MaxPooling2D((2, 2)))\n",
    "    img_model.add(layers.Conv2D(128, (3, 3), activation='relu'))\n",
    "    img_model.add(layers.MaxPooling2D((2, 2)))\n",
    "    img_model.add(layers.Conv2D(128, (3, 3), activation='relu'))\n",
    "    img_model.add(layers.MaxPooling2D((2, 2)))\n",
    "    img_model.add(layers.Flatten())\n",
    "    img_model.add(layers.Dense(512, activation='relu'))\n",
    "    img_model.add(layers.Dense(13, activation='sigmoid'))\n",
    "    img_model.compile(loss='binary_crossentropy',\n",
    "          optimizer=optimizers.RMSprop(lr=1e-4),\n",
    "          metrics=['acc'])\n",
    "    img_model.fit(X_train, y_train, \n",
    "                    batch_size=100, \n",
    "                    epochs=10, \n",
    "                    validation_data=(X_test, y_test))\n",
    "    img_model.save('new_product_prediction_model.h5')\n",
    "    s = 'update finish!'\n",
    "    return str(s)"
   ]
  },
  {
   "cell_type": "code",
   "execution_count": 14,
   "metadata": {},
   "outputs": [],
   "source": [
    "# 인기 제품 추천 기능"
   ]
  },
  {
   "cell_type": "code",
   "execution_count": 15,
   "metadata": {},
   "outputs": [],
   "source": [
    "#인기 제품 추천 기능\n",
    "@app.route(\"/related_kewords/<string:keyword>\")\n",
    "def related_keywords_model(keyword):    \n",
    "    key = request.files['keyword']\n",
    "    frequent_itemsets = apriori(key, min_support=0.7, use_colnames=True)\n",
    "    frequent_itemsets \n",
    "    related_keywords = association_rules(frequent_itemsets, metric=\"confidence\", min_threshold=0.3)\n",
    "    return str(related_keywords)"
   ]
  },
  {
   "cell_type": "code",
   "execution_count": 16,
   "metadata": {
    "scrolled": true
   },
   "outputs": [
    {
     "name": "stdout",
     "output_type": "stream",
     "text": [
      " * Serving Flask app \"__main__\" (lazy loading)\n",
      " * Environment: production\n",
      "   WARNING: This is a development server. Do not use it in a production deployment.\n",
      "   Use a production WSGI server instead.\n",
      " * Debug mode: off\n"
     ]
    },
    {
     "name": "stderr",
     "output_type": "stream",
     "text": [
      " * Running on http://0.0.0.0:20153/ (Press CTRL+C to quit)\n",
      "203.249.127.43 - - [13/Dec/2019 12:33:55] \"\u001b[37mGET / HTTP/1.1\u001b[0m\" 200 -\n",
      "203.249.127.43 - - [13/Dec/2019 12:33:56] \"\u001b[33mGET /favicon.ico HTTP/1.1\u001b[0m\" 404 -\n"
     ]
    },
    {
     "name": "stdout",
     "output_type": "stream",
     "text": [
      "사과\n"
     ]
    },
    {
     "name": "stderr",
     "output_type": "stream",
     "text": [
      "203.249.127.43 - - [13/Dec/2019 12:34:01] \"\u001b[37mGET /coupang/사과 HTTP/1.1\u001b[0m\" 200 -\n"
     ]
    },
    {
     "name": "stdout",
     "output_type": "stream",
     "text": [
      "img save finish!\n",
      "WARNING:tensorflow:From d:\\ProgramData\\Anaconda3\\lib\\site-packages\\keras\\backend\\tensorflow_backend.py:3005: The name tf.Session is deprecated. Please use tf.compat.v1.Session instead.\n",
      "\n"
     ]
    },
    {
     "name": "stderr",
     "output_type": "stream",
     "text": [
      "203.249.127.60 - - [13/Dec/2019 13:02:56] \"\u001b[37mPOST /image_recognition HTTP/1.1\u001b[0m\" 200 -\n"
     ]
    },
    {
     "name": "stdout",
     "output_type": "stream",
     "text": [
      "prediction finish!\n",
      "img save finish!\n"
     ]
    },
    {
     "name": "stderr",
     "output_type": "stream",
     "text": [
      "203.249.127.60 - - [13/Dec/2019 13:03:09] \"\u001b[37mPOST /image_recognition HTTP/1.1\u001b[0m\" 200 -\n"
     ]
    },
    {
     "name": "stdout",
     "output_type": "stream",
     "text": [
      "prediction finish!\n",
      "img save finish!\n"
     ]
    },
    {
     "name": "stderr",
     "output_type": "stream",
     "text": [
      "203.249.127.60 - - [13/Dec/2019 13:04:43] \"\u001b[37mPOST /image_recognition HTTP/1.1\u001b[0m\" 200 -\n"
     ]
    },
    {
     "name": "stdout",
     "output_type": "stream",
     "text": [
      "prediction finish!\n",
      "img save finish!\n"
     ]
    },
    {
     "name": "stderr",
     "output_type": "stream",
     "text": [
      "203.249.127.60 - - [13/Dec/2019 13:05:26] \"\u001b[37mPOST /image_recognition HTTP/1.1\u001b[0m\" 200 -\n"
     ]
    },
    {
     "name": "stdout",
     "output_type": "stream",
     "text": [
      "prediction finish!\n",
      "img save finish!\n"
     ]
    },
    {
     "name": "stderr",
     "output_type": "stream",
     "text": [
      "203.249.127.60 - - [13/Dec/2019 13:05:39] \"\u001b[37mPOST /image_recognition HTTP/1.1\u001b[0m\" 200 -\n"
     ]
    },
    {
     "name": "stdout",
     "output_type": "stream",
     "text": [
      "prediction finish!\n",
      "img save finish!\n"
     ]
    },
    {
     "name": "stderr",
     "output_type": "stream",
     "text": [
      "203.249.127.60 - - [13/Dec/2019 13:06:23] \"\u001b[37mPOST /image_recognition HTTP/1.1\u001b[0m\" 200 -\n"
     ]
    },
    {
     "name": "stdout",
     "output_type": "stream",
     "text": [
      "prediction finish!\n",
      "img save finish!\n"
     ]
    },
    {
     "name": "stderr",
     "output_type": "stream",
     "text": [
      "203.249.127.60 - - [13/Dec/2019 13:06:34] \"\u001b[37mPOST /image_recognition HTTP/1.1\u001b[0m\" 200 -\n"
     ]
    },
    {
     "name": "stdout",
     "output_type": "stream",
     "text": [
      "prediction finish!\n",
      "img save finish!\n"
     ]
    },
    {
     "name": "stderr",
     "output_type": "stream",
     "text": [
      "203.249.127.60 - - [13/Dec/2019 13:07:25] \"\u001b[37mPOST /image_recognition HTTP/1.1\u001b[0m\" 200 -\n"
     ]
    },
    {
     "name": "stdout",
     "output_type": "stream",
     "text": [
      "prediction finish!\n",
      "img save finish!\n"
     ]
    },
    {
     "name": "stderr",
     "output_type": "stream",
     "text": [
      "203.249.127.60 - - [13/Dec/2019 13:10:12] \"\u001b[37mPOST /image_recognition HTTP/1.1\u001b[0m\" 200 -\n"
     ]
    },
    {
     "name": "stdout",
     "output_type": "stream",
     "text": [
      "prediction finish!\n",
      "img save finish!\n"
     ]
    },
    {
     "name": "stderr",
     "output_type": "stream",
     "text": [
      "203.249.127.60 - - [13/Dec/2019 13:10:22] \"\u001b[37mPOST /image_recognition HTTP/1.1\u001b[0m\" 200 -\n"
     ]
    },
    {
     "name": "stdout",
     "output_type": "stream",
     "text": [
      "prediction finish!\n",
      "img save finish!\n"
     ]
    },
    {
     "name": "stderr",
     "output_type": "stream",
     "text": [
      "203.249.127.60 - - [13/Dec/2019 13:10:37] \"\u001b[37mPOST /image_recognition HTTP/1.1\u001b[0m\" 200 -\n"
     ]
    },
    {
     "name": "stdout",
     "output_type": "stream",
     "text": [
      "prediction finish!\n",
      "img save finish!\n"
     ]
    },
    {
     "name": "stderr",
     "output_type": "stream",
     "text": [
      "203.249.127.60 - - [13/Dec/2019 13:10:48] \"\u001b[37mPOST /image_recognition HTTP/1.1\u001b[0m\" 200 -\n"
     ]
    },
    {
     "name": "stdout",
     "output_type": "stream",
     "text": [
      "prediction finish!\n",
      "img save finish!\n"
     ]
    },
    {
     "name": "stderr",
     "output_type": "stream",
     "text": [
      "203.249.127.60 - - [13/Dec/2019 13:13:54] \"\u001b[37mPOST /image_recognition HTTP/1.1\u001b[0m\" 200 -\n"
     ]
    },
    {
     "name": "stdout",
     "output_type": "stream",
     "text": [
      "prediction finish!\n"
     ]
    }
   ],
   "source": [
    "if __name__ == \"__main__\":              \n",
    "    app.run(host=\"0.0.0.0\", port=\"20153\")"
   ]
  }
 ],
 "metadata": {
  "kernelspec": {
   "display_name": "Python 3",
   "language": "python",
   "name": "python3"
  },
  "language_info": {
   "codemirror_mode": {
    "name": "ipython",
    "version": 3
   },
   "file_extension": ".py",
   "mimetype": "text/x-python",
   "name": "python",
   "nbconvert_exporter": "python",
   "pygments_lexer": "ipython3",
   "version": "3.7.3"
  }
 },
 "nbformat": 4,
 "nbformat_minor": 2
}
