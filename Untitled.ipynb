{
 "cells": [
  {
   "cell_type": "code",
   "execution_count": 1,
   "metadata": {},
   "outputs": [
    {
     "name": "stderr",
     "output_type": "stream",
     "text": [
      "Using TensorFlow backend.\n"
     ]
    }
   ],
   "source": [
    "import json\n",
    "import requests\n",
    "from bs4 import BeautifulSoup\n",
    "from collections import OrderedDict\n",
    "from flask import Flask\n",
    "import json\n",
    "from flask import render_template, request\n",
    "from werkzeug import secure_filename\n",
    "import pandas as pd\n",
    "import numpy as np\n",
    "import matplotlib.pyplot as plt\n",
    "from keras.models import Sequential\n",
    "from keras.layers import LSTM, Dropout, Dense, Activation\n",
    "import datetime\n",
    "from sklearn import preprocessing\n",
    "from sklearn.model_selection import train_test_split\n",
    "from keras.models import Sequential\n",
    "from keras.layers import Conv2D, MaxPooling2D, Dense, Flatten, Dropout\n",
    "from keras.callbacks import EarlyStopping, ModelCheckpoint\n",
    "import matplotlib.pyplot as plt\n",
    "import keras.backend.tensorflow_backend as K\n",
    "import tensorflow as tf\n",
    "from keras import regularizers\n",
    "from keras import layers, models\n",
    "from keras.applications import VGG16\n",
    "from keras import Input\n",
    "from keras.models import Model\n",
    "from keras.preprocessing.image import ImageDataGenerator\n",
    "from keras import optimizers, initializers, regularizers, metrics\n",
    "from keras.callbacks import ModelCheckpoint\n",
    "import os\n",
    "from glob import glob\n",
    "from PIL import Image\n",
    "import matplotlib.pyplot as plt\n",
    "import numpy as np\n",
    "from PIL import ImageFile\n",
    "ImageFile.LOAD_TRUNCATED_IMAGES = True\n",
    "from keras.models import load_model\n",
    "import time\n",
    "from flask import make_response\n",
    "import ast\n",
    "from urllib.parse import quote"
   ]
  },
  {
   "cell_type": "code",
   "execution_count": 10,
   "metadata": {},
   "outputs": [],
   "source": [
    "#초기화\n",
    "app = Flask(__name__)\n",
    "@app.route(\"/\")\n",
    "def test():\n",
    "    return \"<h1>test server</h1>\""
   ]
  },
  {
   "cell_type": "code",
   "execution_count": 3,
   "metadata": {},
   "outputs": [],
   "source": [
    "product_li = [\"딸기\",\"키위\",\"멜론\",\"포도\",\"수박\",\"토마토\",\n",
    "        \"배\",\"감\",\"사과\",\"귤\",\"고구마\",\"감자\"]\n",
    "product_url_li = [\"http://search.11st.co.kr/Search.tmall?kwd=%25EB%2594%25B8%25EA%25B8%25B0\",\n",
    "            \"http://search.11st.co.kr/Search.tmall?kwd=%25ED%2582%25A4%25EC%259C%2584\",\n",
    "            \"http://search.11st.co.kr/Search.tmall?kwd=%25EB%25A9%259C%25EB%25A1%25A0\",\n",
    "            \"http://search.11st.co.kr/Search.tmall?kwd=%25ED%258F%25AC%25EB%258F%2584\",\n",
    "            \"http://search.11st.co.kr/Search.tmall?kwd=%25EC%2588%2598%25EB%25B0%2595\",\n",
    "            \"http://search.11st.co.kr/Search.tmall?kwd=%25ED%2586%25A0%25EB%25A7%2588%25ED%2586%25A0\",\n",
    "            \"http://search.11st.co.kr/Search.tmall?kwd=%25EB%25B0%25B0\",\n",
    "            \"http://search.11st.co.kr/Search.tmall?kwd=%25EA%25B0%2590\",\n",
    "            \"http://search.11st.co.kr/Search.tmall?kwd=%25EC%2582%25AC%25EA%25B3%25BC\",\n",
    "            \"http://search.11st.co.kr/Search.tmall?kwd=%25EA%25B7%25A4\",\n",
    "            \"http://search.11st.co.kr/Search.tmall?kwd=%25EA%25B3%25A0%25EA%25B5%25AC%25EB%25A7%2588\",\n",
    "            \"http://search.11st.co.kr/Search.tmall?kwd=%25EA%25B0%2590%25EC%259E%2590\"]\n",
    "product_dic = dict(zip(product_li,product_url_li))"
   ]
  },
  {
   "cell_type": "code",
   "execution_count": 11,
   "metadata": {},
   "outputs": [],
   "source": [
    "@app.route(\"/coupang/<string:keyword>\")\n",
    "def product_recommendation_model_coupang(keyword):    \n",
    "\n",
    "    flag = 1\n",
    "    \n",
    "    print(keyword)\n",
    "    for i in product_dic:\n",
    "        if i == keyword:\n",
    "            product_url = product_dic[i]\n",
    "            flag = 0\n",
    "                \n",
    "    if flag == 0:\n",
    "        print(\"data\")\n",
    "        pass\n",
    "    else:\n",
    "        new_product = [\"\"]\n",
    "        new_url = [\"\"]\n",
    "        print(\"null data\")\n",
    "        file_data = OrderedDict()\n",
    "        file_data[\"related_keywords\"] = new_product\n",
    "        file_data[\"product_url\"] = new_url\n",
    "        j_file = json.dumps(file_data, ensure_ascii=False,indent=\"\\t\")\n",
    "        return make_response(str(j_file))\n",
    "        \n",
    "        \n",
    "    #연관 키워드 크롤링        \n",
    "    response = requests.get(product_url)\n",
    "    html = response.text\n",
    "    soup = BeautifulSoup(html, 'html.parser')\n",
    "    ul = soup.find(\"ul\", {\"class\":\"finder_lst\"})\n",
    "\n",
    "    product = []\n",
    "    url = []\n",
    "\n",
    "    for value in ul.find_all(\"li\"):\n",
    "        product.append(value.a.text.strip())\n",
    "        url.append(value.a.attrs['href'])\n",
    "\n",
    "    #연관 규칙 분석\n",
    "    new_product = []\n",
    "    new_url = []\n",
    "    for i in range(int(len(product)/2)):\n",
    "        new_product.append(product[i])\n",
    "        new_url.append(url[i])        \n",
    "\n",
    "    result_dic = dict(zip(new_product,new_url))\n",
    "    file_data = OrderedDict()\n",
    "    file_data[\"related_keywords\"] = new_product\n",
    "    file_data[\"product_url\"] = new_url\n",
    "    j_file = json.dumps(file_data, ensure_ascii=False,indent=\"\\t\")\n",
    "\n",
    "    #연관 키워드 추천\n",
    "    return make_response(str(j_file))\n",
    "\n",
    "#11번가 연관 검색어 모델\n",
    "@app.route(\"/11st/<string:keyword>\")\n",
    "def product_recommendation_model_11st(keyword):    \n",
    "        \n",
    "    for i in product_dic:\n",
    "        if i == keyword:\n",
    "            product_url = product_dic[i]\n",
    "\n",
    "    #크롤링        \n",
    "    response = requests.get(product_url)\n",
    "    html = response.text\n",
    "    soup = BeautifulSoup(html,'html.parser')\n",
    "    ul = soup.find(\"ul\", {\"class\":\"finder_lst\"})\n",
    "\n",
    "    product = []\n",
    "    url = []\n",
    "        \n",
    "    #json으로 반환\n",
    "    for value in ul.find_all(\"li\"):\n",
    "        product.append(value.a.text.strip())\n",
    "        url.append(value.a.attrs['href'])\n",
    "\n",
    "    p_len = len(product)\n",
    "    new_product = []\n",
    "    new_url = []\n",
    "    \n",
    "    for i in range(int(len(product)/2)):\n",
    "        new_product.append(product[p_len-1-i])\n",
    "        new_url.append(url[p_len-1-i]) \n",
    "        \n",
    "    result_dic = dict(zip(product,url))\n",
    "    file_data = OrderedDict()\n",
    "    file_data[\"related_keywords\"] = new_product\n",
    "    file_data[\"product_url\"] = new_url\n",
    "    j_file = json.dumps(file_data, ensure_ascii=False,indent=\"\\t\")\n",
    "    \n",
    "    return make_response(str(j_file))"
   ]
  },
  {
   "cell_type": "code",
   "execution_count": null,
   "metadata": {},
   "outputs": [
    {
     "name": "stdout",
     "output_type": "stream",
     "text": [
      " * Serving Flask app \"__main__\" (lazy loading)\n",
      " * Environment: production\n",
      "   WARNING: This is a development server. Do not use it in a production deployment.\n",
      "   Use a production WSGI server instead.\n",
      " * Debug mode: off\n"
     ]
    },
    {
     "name": "stderr",
     "output_type": "stream",
     "text": [
      " * Running on http://0.0.0.0:20153/ (Press CTRL+C to quit)\n"
     ]
    }
   ],
   "source": [
    "if __name__ == \"__main__\":              \n",
    "    app.run(host=\"0.0.0.0\", port=\"20153\")"
   ]
  },
  {
   "cell_type": "code",
   "execution_count": null,
   "metadata": {},
   "outputs": [],
   "source": []
  }
 ],
 "metadata": {
  "kernelspec": {
   "display_name": "Python 3",
   "language": "python",
   "name": "python3"
  },
  "language_info": {
   "codemirror_mode": {
    "name": "ipython",
    "version": 3
   },
   "file_extension": ".py",
   "mimetype": "text/x-python",
   "name": "python",
   "nbconvert_exporter": "python",
   "pygments_lexer": "ipython3",
   "version": "3.7.3"
  }
 },
 "nbformat": 4,
 "nbformat_minor": 2
}
